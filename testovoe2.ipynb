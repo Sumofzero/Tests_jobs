{
 "cells": [
  {
   "cell_type": "code",
   "execution_count": 178,
   "metadata": {
    "id": "2tP3OvOWy1Wj"
   },
   "outputs": [],
   "source": [
    "import pandas as pd\n",
    "import numpy as np\n",
    "import matplotlib.pyplot as plt\n",
    "\n",
    "from sklearn.metrics import roc_auc_score\n",
    "from sklearn.metrics import roc_curve\n",
    "\n",
    "from sklearn.metrics import classification_report\n",
    "from sklearn.metrics import confusion_matrix\n",
    "from sklearn.metrics import accuracy_score"
   ]
  },
  {
   "cell_type": "code",
   "execution_count": null,
   "metadata": {
    "colab": {
     "base_uri": "https://localhost:8080/"
    },
    "id": "ue38IwQyzD3H",
    "outputId": "ee1ab331-12c9-4b6a-cadd-7d15a6f25657"
   },
   "outputs": [
    {
     "name": "stdout",
     "output_type": "stream",
     "text": [
      "Mounted at /content/drive\n"
     ]
    }
   ],
   "source": [
    "from google.colab import drive\n",
    "drive.mount('/content/drive')"
   ]
  },
  {
   "cell_type": "code",
   "execution_count": 222,
   "metadata": {
    "colab": {
     "base_uri": "https://localhost:8080/",
     "height": 585
    },
    "id": "sXf-iB5hzdzW",
    "outputId": "a2813d48-4727-4fe0-f1ea-d9572ccfcc19"
   },
   "outputs": [
    {
     "data": {
      "text/html": [
       "<div>\n",
       "<style scoped>\n",
       "    .dataframe tbody tr th:only-of-type {\n",
       "        vertical-align: middle;\n",
       "    }\n",
       "\n",
       "    .dataframe tbody tr th {\n",
       "        vertical-align: top;\n",
       "    }\n",
       "\n",
       "    .dataframe thead th {\n",
       "        text-align: right;\n",
       "    }\n",
       "</style>\n",
       "<table border=\"1\" class=\"dataframe\">\n",
       "  <thead>\n",
       "    <tr style=\"text-align: right;\">\n",
       "      <th></th>\n",
       "      <th>id</th>\n",
       "      <th>camera_id</th>\n",
       "      <th>time_check</th>\n",
       "      <th>regno_recognize</th>\n",
       "      <th>regno_ai</th>\n",
       "      <th>regno</th>\n",
       "      <th>result_code</th>\n",
       "      <th>symbols</th>\n",
       "      <th>symbol_scores</th>\n",
       "      <th>length_scores</th>\n",
       "    </tr>\n",
       "  </thead>\n",
       "  <tbody>\n",
       "    <tr>\n",
       "      <th>0</th>\n",
       "      <td>1</td>\n",
       "      <td>844</td>\n",
       "      <td>00:00:00</td>\n",
       "      <td>У991КВ799</td>\n",
       "      <td>У991КВ799</td>\n",
       "      <td>У991КВ799</td>\n",
       "      <td>0</td>\n",
       "      <td>[\"У\", \"9\", \"9\", \"1\", \"К\", \"В\", \"7\", \"9\", \"9\"]</td>\n",
       "      <td>[0.9999366998672485, 0.9999223947525024, 0.999...</td>\n",
       "      <td>[0.000000034831597162110484, 0.000000034835451...</td>\n",
       "    </tr>\n",
       "    <tr>\n",
       "      <th>1</th>\n",
       "      <td>2</td>\n",
       "      <td>2516</td>\n",
       "      <td>00:00:00</td>\n",
       "      <td>О019УК177</td>\n",
       "      <td>О019УК177</td>\n",
       "      <td>О019УК177</td>\n",
       "      <td>0</td>\n",
       "      <td>[\"О\", \"0\", \"1\", \"9\", \"У\", \"К\", \"1\", \"7\", \"7\"]</td>\n",
       "      <td>[0.9998993873596191, 0.999862790107727, 0.9999...</td>\n",
       "      <td>[0.0000000068477667980459955, 0.00000000683332...</td>\n",
       "    </tr>\n",
       "    <tr>\n",
       "      <th>2</th>\n",
       "      <td>3</td>\n",
       "      <td>2476</td>\n",
       "      <td>00:00:00</td>\n",
       "      <td>Е175АК150</td>\n",
       "      <td>Е175АК150</td>\n",
       "      <td>Е175АК150</td>\n",
       "      <td>0</td>\n",
       "      <td>[\"Е\", \"1\", \"7\", \"5\", \"А\", \"К\", \"1\", \"5\", \"0\"]</td>\n",
       "      <td>[0.9997256398200989, 0.9999269247055054, 0.999...</td>\n",
       "      <td>[0.000000002039653557162069, 0.000000002043387...</td>\n",
       "    </tr>\n",
       "    <tr>\n",
       "      <th>3</th>\n",
       "      <td>4</td>\n",
       "      <td>1251</td>\n",
       "      <td>00:00:01</td>\n",
       "      <td>Т359ОН799</td>\n",
       "      <td>Т359ОН799</td>\n",
       "      <td>Т359ОН799</td>\n",
       "      <td>0</td>\n",
       "      <td>[\"Т\", \"3\", \"5\", \"9\", \"О\", \"Н\", \"7\", \"9\", \"9\"]</td>\n",
       "      <td>[0.9998781681060791, 0.9998764991760254, 0.999...</td>\n",
       "      <td>[0.00000002880540606042814, 0.0000000289985120...</td>\n",
       "    </tr>\n",
       "    <tr>\n",
       "      <th>4</th>\n",
       "      <td>5</td>\n",
       "      <td>2516</td>\n",
       "      <td>00:00:01</td>\n",
       "      <td>В521СУ750</td>\n",
       "      <td>В521СУ750</td>\n",
       "      <td>В521СУ750</td>\n",
       "      <td>0</td>\n",
       "      <td>[\"В\", \"5\", \"2\", \"1\", \"С\", \"У\", \"7\", \"5\", \"0\"]</td>\n",
       "      <td>[0.999920129776001, 0.9999333620071411, 0.9999...</td>\n",
       "      <td>[0.000000009300508807541519, 0.000000009201486...</td>\n",
       "    </tr>\n",
       "  </tbody>\n",
       "</table>\n",
       "</div>"
      ],
      "text/plain": [
       "   id  camera_id time_check regno_recognize   regno_ai      regno  \\\n",
       "0   1        844   00:00:00       У991КВ799  У991КВ799  У991КВ799   \n",
       "1   2       2516   00:00:00       О019УК177  О019УК177  О019УК177   \n",
       "2   3       2476   00:00:00       Е175АК150  Е175АК150  Е175АК150   \n",
       "3   4       1251   00:00:01       Т359ОН799  Т359ОН799  Т359ОН799   \n",
       "4   5       2516   00:00:01       В521СУ750  В521СУ750  В521СУ750   \n",
       "\n",
       "   result_code                                        symbols  \\\n",
       "0            0  [\"У\", \"9\", \"9\", \"1\", \"К\", \"В\", \"7\", \"9\", \"9\"]   \n",
       "1            0  [\"О\", \"0\", \"1\", \"9\", \"У\", \"К\", \"1\", \"7\", \"7\"]   \n",
       "2            0  [\"Е\", \"1\", \"7\", \"5\", \"А\", \"К\", \"1\", \"5\", \"0\"]   \n",
       "3            0  [\"Т\", \"3\", \"5\", \"9\", \"О\", \"Н\", \"7\", \"9\", \"9\"]   \n",
       "4            0  [\"В\", \"5\", \"2\", \"1\", \"С\", \"У\", \"7\", \"5\", \"0\"]   \n",
       "\n",
       "                                       symbol_scores  \\\n",
       "0  [0.9999366998672485, 0.9999223947525024, 0.999...   \n",
       "1  [0.9998993873596191, 0.999862790107727, 0.9999...   \n",
       "2  [0.9997256398200989, 0.9999269247055054, 0.999...   \n",
       "3  [0.9998781681060791, 0.9998764991760254, 0.999...   \n",
       "4  [0.999920129776001, 0.9999333620071411, 0.9999...   \n",
       "\n",
       "                                       length_scores  \n",
       "0  [0.000000034831597162110484, 0.000000034835451...  \n",
       "1  [0.0000000068477667980459955, 0.00000000683332...  \n",
       "2  [0.000000002039653557162069, 0.000000002043387...  \n",
       "3  [0.00000002880540606042814, 0.0000000289985120...  \n",
       "4  [0.000000009300508807541519, 0.000000009201486...  "
      ]
     },
     "execution_count": 222,
     "metadata": {},
     "output_type": "execute_result"
    }
   ],
   "source": [
    "data = pd.read_csv('C:/Users/zapro/OneDrive/Desktop/2_test_data_regno/test_data_regno.csv', sep=';')\n",
    "data.head()"
   ]
  },
  {
   "cell_type": "code",
   "execution_count": 5,
   "metadata": {
    "colab": {
     "base_uri": "https://localhost:8080/",
     "height": 283
    },
    "id": "5kpPRmB5zs52",
    "outputId": "e7ab9349-3be6-430f-8168-05667481f492"
   },
   "outputs": [
    {
     "data": {
      "text/plain": [
       "<AxesSubplot:>"
      ]
     },
     "execution_count": 5,
     "metadata": {},
     "output_type": "execute_result"
    },
    {
     "data": {
      "image/png": "[encoded data removed]",
      "text/plain": [
       "<Figure size 432x288 with 1 Axes>"
      ]
     },
     "metadata": {
      "needs_background": "light"
     },
     "output_type": "display_data"
    }
   ],
   "source": [
    "data.result_code.hist()"
   ]
  },
  {
   "cell_type": "code",
   "execution_count": null,
   "metadata": {
    "colab": {
     "base_uri": "https://localhost:8080/",
     "height": 52
    },
    "id": "J45w8g1F7ueT",
    "outputId": "7a39d0db-e7a7-48b0-d218-fb3f52654c85"
   },
   "outputs": [
    {
     "data": {
      "application/vnd.google.colaboratory.intrinsic+json": {
       "type": "string"
      },
      "text/plain": [
       "'[0.000000034831597162110484, 0.00000003483545185645198, 0.00000003468561260433489, 0.00000003473692089528413, 0.000000034993011155393106, 0.000000034923196778891, 0.00000003507172152694693, 0.0000014320634136311128, 0.00006696282798657194, 0.9999313354492188, 0.00000003498553624581291]'"
      ]
     },
     "execution_count": 6,
     "metadata": {
      "tags": []
     },
     "output_type": "execute_result"
    }
   ],
   "source": [
    "data.length_scores.values[0]"
   ]
  },
  {
   "cell_type": "code",
   "execution_count": 6,
   "metadata": {
    "id": "FXbaWcAG7ugd"
   },
   "outputs": [],
   "source": [
    "from ast import literal_eval\n",
    "data.length_scores = data.length_scores.apply(lambda x: literal_eval(x))"
   ]
  },
  {
   "cell_type": "code",
   "execution_count": 7,
   "metadata": {
    "id": "NnI6VhKU7ui0"
   },
   "outputs": [],
   "source": [
    "data.symbols = data.symbols.apply(lambda x: literal_eval(x))\n",
    "data.symbol_scores = data.symbol_scores.apply(lambda x: literal_eval(x))"
   ]
  },
  {
   "cell_type": "code",
   "execution_count": 8,
   "metadata": {
    "colab": {
     "base_uri": "https://localhost:8080/"
    },
    "collapsed": true,
    "id": "_JkfDWvG7ulf",
    "jupyter": {
     "outputs_hidden": true
    },
    "outputId": "1149f6e6-13f1-4642-ad1f-107a02061c83"
   },
   "outputs": [
    {
     "data": {
      "text/plain": [
       "array([1, 844, '00:00:00', 'У991КВ799', 'У991КВ799', 'У991КВ799', 0,\n",
       "       list(['У', '9', '9', '1', 'К', 'В', '7', '9', '9']),\n",
       "       list([0.9999366998672485, 0.9999223947525024, 0.9998831748962402, 0.999906063079834, 0.9999197721481323, 0.9998780488967896, 0.9997326731681824, 0.9995266199111938, 0.9990807771682739]),\n",
       "       list([3.4831597162110484e-08, 3.483545185645198e-08, 3.468561260433489e-08, 3.473692089528413e-08, 3.4993011155393106e-08, 3.4923196778891e-08, 3.507172152694693e-08, 1.4320634136311128e-06, 6.696282798657194e-05, 0.9999313354492188, 3.498553624581291e-08])],\n",
       "      dtype=object)"
      ]
     },
     "execution_count": 8,
     "metadata": {},
     "output_type": "execute_result"
    }
   ],
   "source": [
    "data.values[0]"
   ]
  },
  {
   "cell_type": "markdown",
   "metadata": {
    "id": "wxEXI3FFiiiC"
   },
   "source": [
    "Подключим алгоритм, основанный на алгоритме Левенштейна для поиска численного отличия строк."
   ]
  },
  {
   "cell_type": "code",
   "execution_count": 9,
   "metadata": {
    "colab": {
     "base_uri": "https://localhost:8080/"
    },
    "collapsed": true,
    "id": "kl77sLff_tMG",
    "jupyter": {
     "outputs_hidden": true
    },
    "outputId": "8c709245-29a9-4ef3-ab69-d30585e6ae36"
   },
   "outputs": [
    {
     "name": "stdout",
     "output_type": "stream",
     "text": [
      "Defaulting to user installation because normal site-packages is not writeable\n",
      "Collecting strsimpy\n",
      "  Downloading strsimpy-0.2.0-py3-none-any.whl (45 kB)\n",
      "Installing collected packages: strsimpy\n",
      "Successfully installed strsimpy-0.2.0\n"
     ]
    },
    {
     "name": "stderr",
     "output_type": "stream",
     "text": [
      "WARNING: You are using pip version 21.1.2; however, version 21.1.3 is available.\n",
      "You should consider upgrading via the 'c:\\program files\\python38\\python.exe -m pip install --upgrade pip' command.\n"
     ]
    }
   ],
   "source": [
    "!pip install strsimpy"
   ]
  },
  {
   "cell_type": "code",
   "execution_count": 10,
   "metadata": {
    "colab": {
     "base_uri": "https://localhost:8080/"
    },
    "id": "FnH4bXZ48-nI",
    "outputId": "e6239ab2-4ae6-4790-c858-65dce11052eb"
   },
   "outputs": [
    {
     "data": {
      "text/plain": [
       "0.19999999999999996"
      ]
     },
     "execution_count": 10,
     "metadata": {},
     "output_type": "execute_result"
    }
   ],
   "source": [
    "from strsimpy.metric_lcs import MetricLCS\n",
    "\n",
    "metric_lcs = MetricLCS()\n",
    "metric_lcs.distance('ABDEF', 'ABDIF')"
   ]
  },
  {
   "cell_type": "code",
   "execution_count": 11,
   "metadata": {
    "id": "jOXEMkO38-pq"
   },
   "outputs": [],
   "source": [
    "data['score_LCS'] = [metric_lcs.distance(x[0], x[1]) for x in data[['regno', 'regno_ai']].values]"
   ]
  },
  {
   "cell_type": "code",
   "execution_count": 12,
   "metadata": {
    "id": "yzxv-HgQ8-r-"
   },
   "outputs": [],
   "source": [
    "data['score_LCS'] = data['score_LCS'].isin([0])"
   ]
  },
  {
   "cell_type": "code",
   "execution_count": 13,
   "metadata": {
    "id": "fo06oBet8-ww"
   },
   "outputs": [],
   "source": [
    "data['score_LCS'] = data['score_LCS'].astype(int)"
   ]
  },
  {
   "cell_type": "code",
   "execution_count": 14,
   "metadata": {
    "colab": {
     "base_uri": "https://localhost:8080/",
     "height": 282
    },
    "id": "PIJzs6Wo8-yy",
    "outputId": "d8093420-16dc-4198-b3ef-88f5b26d6e24"
   },
   "outputs": [
    {
     "data": {
      "text/plain": [
       "<AxesSubplot:>"
      ]
     },
     "execution_count": 14,
     "metadata": {},
     "output_type": "execute_result"
    },
    {
     "data": {
      "image/png": "[encoded data removed]",
      "text/plain": [
       "<Figure size 432x288 with 1 Axes>"
      ]
     },
     "metadata": {
      "needs_background": "light"
     },
     "output_type": "display_data"
    }
   ],
   "source": [
    "data['score_LCS'].hist()"
   ]
  },
  {
   "cell_type": "markdown",
   "metadata": {
    "id": "enUhIhC-iz-J"
   },
   "source": [
    "Если score_LCS = 1, то итоговый номер ничем не отличается от номера, который получили от нового алгоритма."
   ]
  },
  {
   "cell_type": "markdown",
   "metadata": {},
   "source": [
    "Видим сильный дисбаланс классов"
   ]
  },
  {
   "cell_type": "code",
   "execution_count": 16,
   "metadata": {
    "colab": {
     "base_uri": "https://localhost:8080/",
     "height": 585
    },
    "id": "zPseKEKnE_Y7",
    "outputId": "83d658ec-4e60-41e2-f940-051372dcbabb"
   },
   "outputs": [
    {
     "data": {
      "text/html": [
       "<div>\n",
       "<style scoped>\n",
       "    .dataframe tbody tr th:only-of-type {\n",
       "        vertical-align: middle;\n",
       "    }\n",
       "\n",
       "    .dataframe tbody tr th {\n",
       "        vertical-align: top;\n",
       "    }\n",
       "\n",
       "    .dataframe thead th {\n",
       "        text-align: right;\n",
       "    }\n",
       "</style>\n",
       "<table border=\"1\" class=\"dataframe\">\n",
       "  <thead>\n",
       "    <tr style=\"text-align: right;\">\n",
       "      <th></th>\n",
       "      <th>id</th>\n",
       "      <th>camera_id</th>\n",
       "      <th>time_check</th>\n",
       "      <th>regno_recognize</th>\n",
       "      <th>regno_ai</th>\n",
       "      <th>regno</th>\n",
       "      <th>result_code</th>\n",
       "      <th>symbols</th>\n",
       "      <th>symbol_scores</th>\n",
       "      <th>length_scores</th>\n",
       "      <th>score_LCS</th>\n",
       "    </tr>\n",
       "  </thead>\n",
       "  <tbody>\n",
       "    <tr>\n",
       "      <th>0</th>\n",
       "      <td>1</td>\n",
       "      <td>844</td>\n",
       "      <td>00:00:00</td>\n",
       "      <td>У991КВ799</td>\n",
       "      <td>У991КВ799</td>\n",
       "      <td>У991КВ799</td>\n",
       "      <td>0</td>\n",
       "      <td>[У, 9, 9, 1, К, В, 7, 9, 9]</td>\n",
       "      <td>[0.9999366998672485, 0.9999223947525024, 0.999...</td>\n",
       "      <td>[3.4831597162110484e-08, 3.483545185645198e-08...</td>\n",
       "      <td>1</td>\n",
       "    </tr>\n",
       "    <tr>\n",
       "      <th>1</th>\n",
       "      <td>2</td>\n",
       "      <td>2516</td>\n",
       "      <td>00:00:00</td>\n",
       "      <td>О019УК177</td>\n",
       "      <td>О019УК177</td>\n",
       "      <td>О019УК177</td>\n",
       "      <td>0</td>\n",
       "      <td>[О, 0, 1, 9, У, К, 1, 7, 7]</td>\n",
       "      <td>[0.9998993873596191, 0.999862790107727, 0.9999...</td>\n",
       "      <td>[6.8477667980459955e-09, 6.833323240584832e-09...</td>\n",
       "      <td>1</td>\n",
       "    </tr>\n",
       "    <tr>\n",
       "      <th>2</th>\n",
       "      <td>3</td>\n",
       "      <td>2476</td>\n",
       "      <td>00:00:00</td>\n",
       "      <td>Е175АК150</td>\n",
       "      <td>Е175АК150</td>\n",
       "      <td>Е175АК150</td>\n",
       "      <td>0</td>\n",
       "      <td>[Е, 1, 7, 5, А, К, 1, 5, 0]</td>\n",
       "      <td>[0.9997256398200989, 0.9999269247055054, 0.999...</td>\n",
       "      <td>[2.039653557162069e-09, 2.043387681283093e-09,...</td>\n",
       "      <td>1</td>\n",
       "    </tr>\n",
       "    <tr>\n",
       "      <th>3</th>\n",
       "      <td>4</td>\n",
       "      <td>1251</td>\n",
       "      <td>00:00:01</td>\n",
       "      <td>Т359ОН799</td>\n",
       "      <td>Т359ОН799</td>\n",
       "      <td>Т359ОН799</td>\n",
       "      <td>0</td>\n",
       "      <td>[Т, 3, 5, 9, О, Н, 7, 9, 9]</td>\n",
       "      <td>[0.9998781681060791, 0.9998764991760254, 0.999...</td>\n",
       "      <td>[2.880540606042814e-08, 2.8998512036082502e-08...</td>\n",
       "      <td>1</td>\n",
       "    </tr>\n",
       "    <tr>\n",
       "      <th>4</th>\n",
       "      <td>5</td>\n",
       "      <td>2516</td>\n",
       "      <td>00:00:01</td>\n",
       "      <td>В521СУ750</td>\n",
       "      <td>В521СУ750</td>\n",
       "      <td>В521СУ750</td>\n",
       "      <td>0</td>\n",
       "      <td>[В, 5, 2, 1, С, У, 7, 5, 0]</td>\n",
       "      <td>[0.999920129776001, 0.9999333620071411, 0.9999...</td>\n",
       "      <td>[9.300508807541519e-09, 9.201486683707572e-09,...</td>\n",
       "      <td>1</td>\n",
       "    </tr>\n",
       "  </tbody>\n",
       "</table>\n",
       "</div>"
      ],
      "text/plain": [
       "   id  camera_id time_check regno_recognize   regno_ai      regno  \\\n",
       "0   1        844   00:00:00       У991КВ799  У991КВ799  У991КВ799   \n",
       "1   2       2516   00:00:00       О019УК177  О019УК177  О019УК177   \n",
       "2   3       2476   00:00:00       Е175АК150  Е175АК150  Е175АК150   \n",
       "3   4       1251   00:00:01       Т359ОН799  Т359ОН799  Т359ОН799   \n",
       "4   5       2516   00:00:01       В521СУ750  В521СУ750  В521СУ750   \n",
       "\n",
       "   result_code                      symbols  \\\n",
       "0            0  [У, 9, 9, 1, К, В, 7, 9, 9]   \n",
       "1            0  [О, 0, 1, 9, У, К, 1, 7, 7]   \n",
       "2            0  [Е, 1, 7, 5, А, К, 1, 5, 0]   \n",
       "3            0  [Т, 3, 5, 9, О, Н, 7, 9, 9]   \n",
       "4            0  [В, 5, 2, 1, С, У, 7, 5, 0]   \n",
       "\n",
       "                                       symbol_scores  \\\n",
       "0  [0.9999366998672485, 0.9999223947525024, 0.999...   \n",
       "1  [0.9998993873596191, 0.999862790107727, 0.9999...   \n",
       "2  [0.9997256398200989, 0.9999269247055054, 0.999...   \n",
       "3  [0.9998781681060791, 0.9998764991760254, 0.999...   \n",
       "4  [0.999920129776001, 0.9999333620071411, 0.9999...   \n",
       "\n",
       "                                       length_scores  score_LCS  \n",
       "0  [3.4831597162110484e-08, 3.483545185645198e-08...          1  \n",
       "1  [6.8477667980459955e-09, 6.833323240584832e-09...          1  \n",
       "2  [2.039653557162069e-09, 2.043387681283093e-09,...          1  \n",
       "3  [2.880540606042814e-08, 2.8998512036082502e-08...          1  \n",
       "4  [9.300508807541519e-09, 9.201486683707572e-09,...          1  "
      ]
     },
     "execution_count": 16,
     "metadata": {},
     "output_type": "execute_result"
    }
   ],
   "source": [
    "data.head()"
   ]
  },
  {
   "cell_type": "code",
   "execution_count": 17,
   "metadata": {
    "id": "n9SLYGcAE_c0"
   },
   "outputs": [],
   "source": [
    "Y = []\n",
    "l1 = []\n",
    "l2 = []\n",
    "for row in data[['symbol_scores', 'length_scores', 'score_LCS']].values:\n",
    "    l1.append(min(row[0]))\n",
    "    l2.append(max(row[1]))\n",
    "    Y.append(row[2])"
   ]
  },
  {
   "cell_type": "markdown",
   "metadata": {
    "id": "QcIsADdRjHmY"
   },
   "source": [
    "l1 - минимальный скор по всем символам строки\n",
    "l2 - максимальный скор длины строки"
   ]
  },
  {
   "cell_type": "code",
   "execution_count": 18,
   "metadata": {
    "colab": {
     "base_uri": "https://localhost:8080/",
     "height": 417
    },
    "id": "l-js5uB5VR-1",
    "outputId": "2b192389-771f-47f4-f566-0604bd42a54a"
   },
   "outputs": [
    {
     "data": {
      "text/html": [
       "<div>\n",
       "<style scoped>\n",
       "    .dataframe tbody tr th:only-of-type {\n",
       "        vertical-align: middle;\n",
       "    }\n",
       "\n",
       "    .dataframe tbody tr th {\n",
       "        vertical-align: top;\n",
       "    }\n",
       "\n",
       "    .dataframe thead th {\n",
       "        text-align: right;\n",
       "    }\n",
       "</style>\n",
       "<table border=\"1\" class=\"dataframe\">\n",
       "  <thead>\n",
       "    <tr style=\"text-align: right;\">\n",
       "      <th></th>\n",
       "      <th>l1</th>\n",
       "      <th>l2</th>\n",
       "      <th>y</th>\n",
       "    </tr>\n",
       "  </thead>\n",
       "  <tbody>\n",
       "    <tr>\n",
       "      <th>0</th>\n",
       "      <td>0.999081</td>\n",
       "      <td>0.999931</td>\n",
       "      <td>1</td>\n",
       "    </tr>\n",
       "    <tr>\n",
       "      <th>1</th>\n",
       "      <td>0.999863</td>\n",
       "      <td>0.999990</td>\n",
       "      <td>1</td>\n",
       "    </tr>\n",
       "    <tr>\n",
       "      <th>2</th>\n",
       "      <td>0.999726</td>\n",
       "      <td>0.999999</td>\n",
       "      <td>1</td>\n",
       "    </tr>\n",
       "    <tr>\n",
       "      <th>3</th>\n",
       "      <td>0.999265</td>\n",
       "      <td>0.999982</td>\n",
       "      <td>1</td>\n",
       "    </tr>\n",
       "    <tr>\n",
       "      <th>4</th>\n",
       "      <td>0.999577</td>\n",
       "      <td>0.999992</td>\n",
       "      <td>1</td>\n",
       "    </tr>\n",
       "  </tbody>\n",
       "</table>\n",
       "</div>"
      ],
      "text/plain": [
       "         l1        l2  y\n",
       "0  0.999081  0.999931  1\n",
       "1  0.999863  0.999990  1\n",
       "2  0.999726  0.999999  1\n",
       "3  0.999265  0.999982  1\n",
       "4  0.999577  0.999992  1"
      ]
     },
     "execution_count": 18,
     "metadata": {},
     "output_type": "execute_result"
    }
   ],
   "source": [
    "r = pd.DataFrame({'l1': l1, 'l2': l2, 'y': Y})\n",
    "r.head()"
   ]
  },
  {
   "cell_type": "code",
   "execution_count": 19,
   "metadata": {
    "colab": {
     "base_uri": "https://localhost:8080/",
     "height": 628
    },
    "id": "nk8xKtv98-44",
    "outputId": "61dee692-10dc-4f98-e4e0-f51838e26397"
   },
   "outputs": [
    {
     "data": {
      "text/plain": [
       "<AxesSubplot:xlabel='y', ylabel='l2'>"
      ]
     },
     "execution_count": 19,
     "metadata": {},
     "output_type": "execute_result"
    },
    {
     "data": {
      "image/png": "[encoded data removed]",
      "text/plain": [
       "<Figure size 864x720 with 2 Axes>"
      ]
     },
     "metadata": {},
     "output_type": "display_data"
    }
   ],
   "source": [
    "import seaborn as sns\n",
    "\n",
    "sns.set_theme(style=\"whitegrid\")\n",
    "fig, ax = plt.subplots(nrows=2, figsize=(12,10))\n",
    "sns.boxplot(x=\"y\", y=\"l1\", data=r, ax=ax[0])\n",
    "sns.boxplot(x=\"y\", y=\"l2\", data=r, ax=ax[1])"
   ]
  },
  {
   "cell_type": "markdown",
   "metadata": {
    "id": "OynuZEWtbD-i"
   },
   "source": [
    "Как мы можем видеть, нам достаточно вероятности ошибиться в 1 символе, чтобы требовать проверки оператором."
   ]
  },
  {
   "cell_type": "code",
   "execution_count": 20,
   "metadata": {
    "colab": {
     "base_uri": "https://localhost:8080/"
    },
    "id": "1zuJHt3e7uoY",
    "outputId": "b99ac440-e4cf-492f-cf63-07b53e4f1a26"
   },
   "outputs": [
    {
     "data": {
      "text/plain": [
       "(194214, 2)"
      ]
     },
     "execution_count": 20,
     "metadata": {},
     "output_type": "execute_result"
    }
   ],
   "source": [
    "X = r[['l1', 'l2']]\n",
    "Y = r.y\n",
    "X.shape"
   ]
  },
  {
   "cell_type": "code",
   "execution_count": 22,
   "metadata": {
    "collapsed": true,
    "jupyter": {
     "outputs_hidden": true
    }
   },
   "outputs": [
    {
     "name": "stdout",
     "output_type": "stream",
     "text": [
      "Defaulting to user installation because normal site-packages is not writeable\n",
      "Collecting statsmodels\n",
      "  Downloading statsmodels-0.12.2-cp38-none-win_amd64.whl (9.4 MB)\n",
      "Collecting patsy>=0.5\n",
      "  Downloading patsy-0.5.1-py2.py3-none-any.whl (231 kB)\n",
      "Requirement already satisfied: pandas>=0.21 in c:\\program files\\python38\\lib\\site-packages (from statsmodels) (1.1.2)\n",
      "Requirement already satisfied: numpy>=1.15 in c:\\program files\\python38\\lib\\site-packages (from statsmodels) (1.19.2)\n",
      "Requirement already satisfied: scipy>=1.1 in c:\\program files\\python38\\lib\\site-packages (from statsmodels) (1.6.2)\n",
      "Requirement already satisfied: pytz>=2017.2 in c:\\program files\\python38\\lib\\site-packages (from pandas>=0.21->statsmodels) (2020.1)\n",
      "Requirement already satisfied: python-dateutil>=2.7.3 in c:\\program files\\python38\\lib\\site-packages (from pandas>=0.21->statsmodels) (2.8.1)\n",
      "Requirement already satisfied: six in c:\\program files\\python38\\lib\\site-packages (from patsy>=0.5->statsmodels) (1.15.0)\n",
      "Installing collected packages: patsy, statsmodels\n",
      "Successfully installed patsy-0.5.1 statsmodels-0.12.2\n"
     ]
    },
    {
     "name": "stderr",
     "output_type": "stream",
     "text": [
      "WARNING: You are using pip version 21.1.2; however, version 21.1.3 is available.\n",
      "You should consider upgrading via the 'c:\\program files\\python38\\python.exe -m pip install --upgrade pip' command.\n"
     ]
    }
   ],
   "source": [
    "!pip install statsmodels"
   ]
  },
  {
   "cell_type": "code",
   "execution_count": 23,
   "metadata": {
    "colab": {
     "base_uri": "https://localhost:8080/"
    },
    "id": "BXEVh3CUb9qF",
    "outputId": "1d75c0a3-5146-4bc8-cb5d-74bd1c61d28e"
   },
   "outputs": [
    {
     "name": "stdout",
     "output_type": "stream",
     "text": [
      "Optimization terminated successfully.\n",
      "         Current function value: 0.106534\n",
      "         Iterations 8\n",
      "                         Results: Logit\n",
      "=================================================================\n",
      "Model:              Logit            Pseudo R-squared: 0.653     \n",
      "Dependent Variable: y                AIC:              41384.6675\n",
      "Date:               2021-07-12 23:53 BIC:              41405.0209\n",
      "No. Observations:   194214           Log-Likelihood:   -20690.   \n",
      "Df Model:           1                LL-Null:          -59640.   \n",
      "Df Residuals:       194212           LLR p-value:      0.0000    \n",
      "Converged:          1.0000           Scale:            1.0000    \n",
      "No. Iterations:     8.0000                                       \n",
      "-------------------------------------------------------------------\n",
      "       Coef.     Std.Err.      z       P>|z|     [0.025     0.975] \n",
      "-------------------------------------------------------------------\n",
      "l1     15.4995     0.1222   126.8727   0.0000    15.2601    15.7389\n",
      "l2    -11.5913     0.1161   -99.8276   0.0000   -11.8188   -11.3637\n",
      "=================================================================\n",
      "\n"
     ]
    }
   ],
   "source": [
    "import statsmodels.api as sm\n",
    "\n",
    "logit_model=sm.Logit(Y,X)\n",
    "result=logit_model.fit()\n",
    "print(result.summary2())"
   ]
  },
  {
   "cell_type": "markdown",
   "metadata": {
    "id": "0NTsN9owcHtv"
   },
   "source": [
    "Видим, что p-value меньше 0.05, поэтому оставляем наши фичи."
   ]
  },
  {
   "cell_type": "markdown",
   "metadata": {
    "id": "go7nz8iOc0GJ"
   },
   "source": [
    "Сбалансируем выборку."
   ]
  },
  {
   "cell_type": "code",
   "execution_count": 25,
   "metadata": {
    "collapsed": true,
    "jupyter": {
     "outputs_hidden": true
    }
   },
   "outputs": [
    {
     "name": "stdout",
     "output_type": "stream",
     "text": [
      "Defaulting to user installation because normal site-packages is not writeable\n",
      "Collecting imblearn\n",
      "  Downloading imblearn-0.0-py2.py3-none-any.whl (1.9 kB)\n",
      "Collecting imbalanced-learn\n",
      "  Downloading imbalanced_learn-0.8.0-py3-none-any.whl (206 kB)\n",
      "Collecting scikit-learn>=0.24\n",
      "  Downloading scikit_learn-0.24.2-cp38-cp38-win_amd64.whl (6.9 MB)\n",
      "Requirement already satisfied: numpy>=1.13.3 in c:\\program files\\python38\\lib\\site-packages (from imbalanced-learn->imblearn) (1.19.2)\n",
      "Requirement already satisfied: scipy>=0.19.1 in c:\\program files\\python38\\lib\\site-packages (from imbalanced-learn->imblearn) (1.6.2)\n",
      "Requirement already satisfied: joblib>=0.11 in c:\\program files\\python38\\lib\\site-packages (from imbalanced-learn->imblearn) (0.16.0)\n",
      "Requirement already satisfied: threadpoolctl>=2.0.0 in c:\\program files\\python38\\lib\\site-packages (from scikit-learn>=0.24->imbalanced-learn->imblearn) (2.1.0)\n",
      "Installing collected packages: scikit-learn, imbalanced-learn, imblearn\n",
      "Successfully installed imbalanced-learn-0.8.0 imblearn-0.0 scikit-learn-0.24.2\n"
     ]
    },
    {
     "name": "stderr",
     "output_type": "stream",
     "text": [
      "WARNING: You are using pip version 21.1.2; however, version 21.1.3 is available.\n",
      "You should consider upgrading via the 'c:\\program files\\python38\\python.exe -m pip install --upgrade pip' command.\n"
     ]
    }
   ],
   "source": [
    "!pip install imblearn"
   ]
  },
  {
   "cell_type": "code",
   "execution_count": 27,
   "metadata": {
    "colab": {
     "base_uri": "https://localhost:8080/"
    },
    "id": "Qa1Nx1FQcyUS",
    "outputId": "3a45a32b-604f-4219-bf5e-39b433888b73"
   },
   "outputs": [
    {
     "name": "stdout",
     "output_type": "stream",
     "text": [
      "length of oversampled data is  246888\n",
      "Number of changing strings 123444\n",
      "Number of no changing strings 123444\n",
      "Proportion of changing string in oversampled data is  0.5\n",
      "Proportion of no changing strings in oversampled data is  0.5\n"
     ]
    }
   ],
   "source": [
    "from imblearn.over_sampling import SMOTE\n",
    "from sklearn.model_selection import train_test_split\n",
    "\n",
    "os = SMOTE(random_state=0)\n",
    "X_train, X_test, y_train, y_test = train_test_split(X, Y, test_size=0.3, random_state=0)\n",
    "columns = X_train.columns\n",
    "\n",
    "os_data_X, os_data_y = os.fit_resample(X_train, y_train)\n",
    "os_data_X = pd.DataFrame(data=os_data_X,columns=columns )\n",
    "os_data_y = pd.DataFrame(data=os_data_y,columns=['y'])\n",
    "\n",
    "# Мы можем проверить числа наших данных\n",
    "print(\"length of oversampled data is \",len(os_data_X))\n",
    "print(\"Number of changing strings\",len(os_data_y[os_data_y['y']==0]))\n",
    "print(\"Number of no changing strings\",len(os_data_y[os_data_y['y']==1]))\n",
    "print(\"Proportion of changing string in oversampled data is \",len(os_data_y[os_data_y['y']==0])/len(os_data_X))\n",
    "print(\"Proportion of no changing strings in oversampled data is \",len(os_data_y[os_data_y['y']==1])/len(os_data_X))"
   ]
  },
  {
   "cell_type": "code",
   "execution_count": 28,
   "metadata": {
    "id": "zv71GKNaePzW"
   },
   "outputs": [],
   "source": [
    "X = os_data_X[['l1', 'l2']]\n",
    "Y = os_data_y['y']"
   ]
  },
  {
   "cell_type": "markdown",
   "metadata": {
    "id": "uqO3tXn-jeCe"
   },
   "source": [
    "Обучим модель логистической регрессии"
   ]
  },
  {
   "cell_type": "code",
   "execution_count": 29,
   "metadata": {
    "colab": {
     "base_uri": "https://localhost:8080/"
    },
    "id": "zPFRwQ1kazd8",
    "outputId": "1c1f7f0c-e493-4baf-b183-3e7ec94415a1"
   },
   "outputs": [
    {
     "data": {
      "text/plain": [
       "LogisticRegression()"
      ]
     },
     "execution_count": 29,
     "metadata": {},
     "output_type": "execute_result"
    }
   ],
   "source": [
    "from sklearn.linear_model import LogisticRegression\n",
    "from sklearn import metrics\n",
    "\n",
    "X_train, X_test, y_train, y_test = train_test_split(X, Y, test_size=0.3, random_state=0)\n",
    "\n",
    "logreg = LogisticRegression()\n",
    "logreg.fit(X_train, y_train)"
   ]
  },
  {
   "cell_type": "code",
   "execution_count": 30,
   "metadata": {
    "colab": {
     "base_uri": "https://localhost:8080/"
    },
    "id": "s6cV_V0gbmLO",
    "outputId": "da8e4c2d-3eb5-43c3-a549-2f8cdb8b7ebf"
   },
   "outputs": [
    {
     "name": "stdout",
     "output_type": "stream",
     "text": [
      "Accuracy of logistic regression classifier on test set: 0.92\n"
     ]
    }
   ],
   "source": [
    "y_pred = logreg.predict(X_test)\n",
    "print('Accuracy of logistic regression classifier on test set: {:.2f}'.format(logreg.score(X_test, y_test)))"
   ]
  },
  {
   "cell_type": "markdown",
   "metadata": {
    "id": "JgvxdtiVe_RI"
   },
   "source": [
    "\"Точность\" классификатора логистической регрессии для тестового набора: 0,92."
   ]
  },
  {
   "cell_type": "code",
   "execution_count": 31,
   "metadata": {
    "colab": {
     "base_uri": "https://localhost:8080/"
    },
    "id": "8DXyZjkXbmOO",
    "outputId": "33fe34bc-bfd3-4034-beea-e09fd3396c44"
   },
   "outputs": [
    {
     "name": "stdout",
     "output_type": "stream",
     "text": [
      "[[31353  5627]\n",
      " [  453 36634]]\n"
     ]
    }
   ],
   "source": [
    "confusion_matrix = confusion_matrix(y_test, y_pred)\n",
    "print(confusion_matrix)"
   ]
  },
  {
   "cell_type": "markdown",
   "metadata": {
    "id": "8cvIOgg9fE62"
   },
   "source": [
    "Матрица ошибок показывает, что у нас 67987 верных ответов и 6080 - неверных из чуть более 74000 примеров."
   ]
  },
  {
   "cell_type": "code",
   "execution_count": 32,
   "metadata": {
    "colab": {
     "base_uri": "https://localhost:8080/"
    },
    "id": "5iZJUz8bf_lq",
    "outputId": "e16f4b21-7c1b-43f2-e7da-7d23eb5a5dfc"
   },
   "outputs": [
    {
     "name": "stdout",
     "output_type": "stream",
     "text": [
      "              precision    recall  f1-score   support\n",
      "\n",
      "           0       0.99      0.85      0.91     36980\n",
      "           1       0.87      0.99      0.92     37087\n",
      "\n",
      "    accuracy                           0.92     74067\n",
      "   macro avg       0.93      0.92      0.92     74067\n",
      "weighted avg       0.93      0.92      0.92     74067\n",
      "\n"
     ]
    }
   ],
   "source": [
    "print(classification_report(y_test, y_pred))"
   ]
  },
  {
   "cell_type": "markdown",
   "metadata": {
    "id": "MSEQFwNlgSB_"
   },
   "source": [
    "Можно видеть, что полнота в классе 0 низкая из-за большого количества ложно-отрицательных ответов, т.е. оператору мы будем давать на перепроверку хорошие результаты."
   ]
  },
  {
   "cell_type": "markdown",
   "metadata": {
    "id": "UsTFCLUqg0fE"
   },
   "source": [
    "Во всяком случае F1 мера довольно высокая, что говорит о неплохом результате."
   ]
  },
  {
   "cell_type": "markdown",
   "metadata": {
    "id": "Dx3ys3osfkOg"
   },
   "source": [
    "Если у объекта класс равен 1, то пересматривать оператору не нужно, т.к. новый алгоритм верно распознал номер с вероятностью 0,92."
   ]
  },
  {
   "cell_type": "markdown",
   "metadata": {
    "id": "PKj_p24Sk2VN"
   },
   "source": [
    "ROC - кривая:"
   ]
  },
  {
   "cell_type": "code",
   "execution_count": 33,
   "metadata": {
    "colab": {
     "base_uri": "https://localhost:8080/",
     "height": 301
    },
    "id": "7iLkBgwhksbQ",
    "outputId": "acb0d464-3f95-40e2-f0da-92ae611d7ef7"
   },
   "outputs": [
    {
     "data": {
      "image/png": "[encoded data removed]",
      "text/plain": [
       "<Figure size 432x288 with 1 Axes>"
      ]
     },
     "metadata": {},
     "output_type": "display_data"
    }
   ],
   "source": [
    "logit_roc_auc = roc_auc_score(y_test, logreg.predict(X_test))\n",
    "fpr, tpr, thresholds = roc_curve(y_test, logreg.predict_proba(X_test)[:,1])\n",
    "plt.figure()\n",
    "plt.plot(fpr, tpr, label='Logistic Regression (area = %0.2f)' % logit_roc_auc)\n",
    "plt.plot([0, 1], [0, 1],'r--')\n",
    "plt.xlim([0.0, 1.0])\n",
    "plt.ylim([0.0, 1.05])\n",
    "plt.xlabel('False Positive Rate')\n",
    "plt.ylabel('True Positive Rate')\n",
    "plt.title('Receiver operating characteristic')\n",
    "plt.legend(loc=\"lower right\")\n",
    "plt.savefig('Log_ROC')\n",
    "plt.show()"
   ]
  },
  {
   "cell_type": "markdown",
   "metadata": {
    "id": "J2_UqpYLk9XF"
   },
   "source": [
    "Видим, что наша модель предказывает сильно лучше, чем случайная (красный пунктир)."
   ]
  },
  {
   "cell_type": "code",
   "execution_count": 34,
   "metadata": {
    "colab": {
     "base_uri": "https://localhost:8080/"
    },
    "id": "ATnonP_pnTEt",
    "outputId": "904a1c8d-d5ae-4e74-9ff1-06c910918b18"
   },
   "outputs": [
    {
     "data": {
      "text/plain": [
       "0.500008189943075"
      ]
     },
     "execution_count": 34,
     "metadata": {},
     "output_type": "execute_result"
    }
   ],
   "source": [
    "max_x = []\n",
    "for x in logreg.predict_proba(X_test):\n",
    "    max_x.append(max(x))\n",
    "min(max_x)"
   ]
  },
  {
   "cell_type": "code",
   "execution_count": 35,
   "metadata": {
    "colab": {
     "base_uri": "https://localhost:8080/",
     "height": 419
    },
    "id": "FVhVRc9xnTHo",
    "outputId": "a51ee641-5217-4f1c-bc6f-7ee5c37a127b"
   },
   "outputs": [
    {
     "data": {
      "text/plain": [
       "(array([  181.,   199.,   187.,   184.,   244.,   216.,   238.,   265.,\n",
       "          236.,   306.,   396.,   365.,   488.,   799., 39532.,   177.,\n",
       "          232.,   312.,   581., 28929.]),\n",
       " array([0.50000819, 0.52500778, 0.55000737, 0.57500696, 0.60000655,\n",
       "        0.62500614, 0.65000573, 0.67500532, 0.70000491, 0.7250045 ,\n",
       "        0.75000409, 0.77500369, 0.80000328, 0.82500287, 0.85000246,\n",
       "        0.87500205, 0.90000164, 0.92500123, 0.95000082, 0.97500041,\n",
       "        1.        ]),\n",
       " <BarContainer object of 20 artists>)"
      ]
     },
     "execution_count": 35,
     "metadata": {},
     "output_type": "execute_result"
    },
    {
     "data": {
      "image/png": "[encoded data removed]",
      "text/plain": [
       "<Figure size 432x288 with 1 Axes>"
      ]
     },
     "metadata": {},
     "output_type": "display_data"
    }
   ],
   "source": [
    "plt.hist(max_x, bins=20)"
   ]
  },
  {
   "cell_type": "markdown",
   "metadata": {
    "id": "I_5_TR7NoCZJ"
   },
   "source": [
    "Найдём скор, от которого будем доверять моделе и не отправлять нарушение оператору."
   ]
  },
  {
   "cell_type": "code",
   "execution_count": 36,
   "metadata": {
    "colab": {
     "base_uri": "https://localhost:8080/",
     "height": 338
    },
    "id": "Vq5ePWMcoBE-",
    "outputId": "eeba253f-7370-4c06-abc7-4158e650521e"
   },
   "outputs": [
    {
     "name": "stderr",
     "output_type": "stream",
     "text": [
      "c:\\program files\\python38\\lib\\site-packages\\seaborn\\_decorators.py:36: FutureWarning: Pass the following variable as a keyword arg: x. From version 0.12, the only valid positional argument will be `data`, and passing other arguments without an explicit keyword will result in an error or misinterpretation.\n",
      "  warnings.warn(\n"
     ]
    },
    {
     "data": {
      "text/plain": [
       "<AxesSubplot:>"
      ]
     },
     "execution_count": 36,
     "metadata": {},
     "output_type": "execute_result"
    },
    {
     "data": {
      "image/png": "[encoded data removed]",
      "text/plain": [
       "<Figure size 432x288 with 1 Axes>"
      ]
     },
     "metadata": {},
     "output_type": "display_data"
    }
   ],
   "source": [
    "sns.boxplot(max_x)"
   ]
  },
  {
   "cell_type": "code",
   "execution_count": 37,
   "metadata": {
    "colab": {
     "base_uri": "https://localhost:8080/"
    },
    "id": "pskKpkaSoBJs",
    "outputId": "d9570df1-799c-47cb-b004-e0e056889917"
   },
   "outputs": [
    {
     "data": {
      "text/plain": [
       "(0.8729195917580436, 0.9138777092261062, 0.8731534674786432)"
      ]
     },
     "execution_count": 37,
     "metadata": {},
     "output_type": "execute_result"
    }
   ],
   "source": [
    "max_x = pd.Series(max_x)\n",
    "\n",
    "max_x.mode()[0], max_x.mean(), max_x.median()"
   ]
  },
  {
   "cell_type": "markdown",
   "metadata": {
    "id": "UYYxr4Sjp0Ne"
   },
   "source": [
    "Будем считать, что мы доверяем модели, если даёт скор не меньше 0.85"
   ]
  },
  {
   "cell_type": "code",
   "execution_count": 39,
   "metadata": {
    "colab": {
     "base_uri": "https://localhost:8080/"
    },
    "id": "9rmEkaNnoBOH",
    "outputId": "a987bf3a-fc0c-49b9-a81f-d1f52c03f0c7"
   },
   "outputs": [
    {
     "data": {
      "text/plain": [
       "0.058109549461973616"
      ]
     },
     "execution_count": 39,
     "metadata": {},
     "output_type": "execute_result"
    }
   ],
   "source": [
    "max_x[max_x<0.85].count()/max_x.count()"
   ]
  },
  {
   "cell_type": "markdown",
   "metadata": {},
   "source": [
    "Тогда в среднем мы будем отдавать на перепроверку оператору около 6% нарушений."
   ]
  },
  {
   "cell_type": "code",
   "execution_count": 46,
   "metadata": {},
   "outputs": [
    {
     "data": {
      "text/plain": [
       "<seaborn.axisgrid.FacetGrid at 0x211c4e2e340>"
      ]
     },
     "execution_count": 46,
     "metadata": {},
     "output_type": "execute_result"
    },
    {
     "data": {
      "image/png": "[encoded data removed]",
      "text/plain": [
       "<Figure size 360x360 with 1 Axes>"
      ]
     },
     "metadata": {},
     "output_type": "display_data"
    }
   ],
   "source": [
    "sns.displot(max_x[max_x>=0.85])"
   ]
  },
  {
   "cell_type": "markdown",
   "metadata": {},
   "source": [
    "А точность нашей модели будет в районе 90-92% для результатов, которые не будут перепроверяться оператором."
   ]
  },
  {
   "cell_type": "code",
   "execution_count": null,
   "metadata": {},
   "outputs": [],
   "source": []
  },
  {
   "cell_type": "code",
   "execution_count": null,
   "metadata": {},
   "outputs": [],
   "source": []
  },
  {
   "cell_type": "code",
   "execution_count": null,
   "metadata": {},
   "outputs": [],
   "source": []
  },
  {
   "cell_type": "code",
   "execution_count": null,
   "metadata": {},
   "outputs": [],
   "source": []
  },
  {
   "cell_type": "code",
   "execution_count": null,
   "metadata": {
    "id": "fBzGmXTAqs4Z"
   },
   "outputs": [],
   "source": []
  },
  {
   "cell_type": "code",
   "execution_count": null,
   "metadata": {
    "id": "CWtB8n4snTMw"
   },
   "outputs": [],
   "source": []
  },
  {
   "cell_type": "markdown",
   "metadata": {
    "id": "mdFCLCFQg9uU"
   },
   "source": [
    "Теперь стоит попробовать другой алгоритм классификации."
   ]
  },
  {
   "cell_type": "markdown",
   "metadata": {
    "id": "fIIHLjR2kUK7"
   },
   "source": [
    "Попробуем XGBoost"
   ]
  },
  {
   "cell_type": "code",
   "execution_count": 47,
   "metadata": {
    "colab": {
     "base_uri": "https://localhost:8080/"
    },
    "id": "70wijTHze7nR",
    "outputId": "32c1fb09-c590-4b4e-8882-dd50bbd7e332"
   },
   "outputs": [
    {
     "data": {
      "text/plain": [
       "XGBClassifier(base_score=0.5, booster='gbtree', colsample_bylevel=1,\n",
       "              colsample_bynode=1, colsample_bytree=1, gamma=0, gpu_id=-1,\n",
       "              importance_type='gain', interaction_constraints='',\n",
       "              learning_rate=0.300000012, max_delta_step=0, max_depth=6,\n",
       "              min_child_weight=1, missing=nan, monotone_constraints='()',\n",
       "              n_estimators=100, n_jobs=0, num_parallel_tree=1, random_state=0,\n",
       "              reg_alpha=0, reg_lambda=1, scale_pos_weight=1, subsample=1,\n",
       "              tree_method='exact', validate_parameters=1, verbosity=None)"
      ]
     },
     "execution_count": 47,
     "metadata": {},
     "output_type": "execute_result"
    }
   ],
   "source": [
    "from xgboost import XGBClassifier\n",
    "\n",
    "xgb_model = XGBClassifier()\n",
    "xgb_model.fit(X_train, y_train)"
   ]
  },
  {
   "cell_type": "code",
   "execution_count": 48,
   "metadata": {
    "colab": {
     "base_uri": "https://localhost:8080/"
    },
    "id": "iqD_RTeye7ph",
    "outputId": "e7302c08-18d0-43af-e619-ea586805900e"
   },
   "outputs": [
    {
     "name": "stdout",
     "output_type": "stream",
     "text": [
      "Accuracy: 95.05%\n"
     ]
    }
   ],
   "source": [
    "y_pred = xgb_model.predict(X_test)\n",
    "\n",
    "accuracy = accuracy_score(y_test, y_pred)\n",
    "print(\"Accuracy: %.2f%%\" % (accuracy * 100.0))"
   ]
  },
  {
   "cell_type": "markdown",
   "metadata": {
    "id": "VcyReXYcnEmO"
   },
   "source": [
    "Точность классификатора xgb классификатора для тестового набора: 0,95."
   ]
  },
  {
   "cell_type": "code",
   "execution_count": 51,
   "metadata": {
    "colab": {
     "base_uri": "https://localhost:8080/"
    },
    "id": "_rG91-dIe7vj",
    "outputId": "a8acc2f1-aca6-4c6f-841d-403a930087fc"
   },
   "outputs": [
    {
     "name": "stdout",
     "output_type": "stream",
     "text": [
      "[[34519  2461]\n",
      " [ 1209 35878]]\n"
     ]
    }
   ],
   "source": [
    "confusion_matrix = confusion_matrix(y_test, y_pred)\n",
    "print(confusion_matrix)"
   ]
  },
  {
   "cell_type": "markdown",
   "metadata": {
    "id": "FEKYmDkYnL3f"
   },
   "source": [
    "Как видим, эта модель реже ошибается."
   ]
  },
  {
   "cell_type": "code",
   "execution_count": 52,
   "metadata": {
    "colab": {
     "base_uri": "https://localhost:8080/"
    },
    "id": "3j-pDYuubmQf",
    "outputId": "3964596f-bf8f-40d1-ca43-1e4f7a433cf6"
   },
   "outputs": [
    {
     "name": "stdout",
     "output_type": "stream",
     "text": [
      "              precision    recall  f1-score   support\n",
      "\n",
      "           0       0.97      0.93      0.95     36980\n",
      "           1       0.94      0.97      0.95     37087\n",
      "\n",
      "    accuracy                           0.95     74067\n",
      "   macro avg       0.95      0.95      0.95     74067\n",
      "weighted avg       0.95      0.95      0.95     74067\n",
      "\n"
     ]
    }
   ],
   "source": [
    "print(classification_report(y_test, y_pred))"
   ]
  },
  {
   "cell_type": "code",
   "execution_count": 53,
   "metadata": {
    "colab": {
     "base_uri": "https://localhost:8080/",
     "height": 301
    },
    "id": "iuUcPn8QbmSh",
    "outputId": "fd47a6de-470d-4f81-d555-83d9834b5a4b"
   },
   "outputs": [
    {
     "data": {
      "image/png": "[encoded data removed]",
      "text/plain": [
       "<Figure size 432x288 with 1 Axes>"
      ]
     },
     "metadata": {},
     "output_type": "display_data"
    }
   ],
   "source": [
    "xgb_roc_auc = roc_auc_score(y_test, y_pred)\n",
    "fpr, tpr, thresholds = roc_curve(y_test, xgb_model.predict_proba(X_test)[:,1])\n",
    "plt.figure()\n",
    "plt.plot(fpr, tpr, label='Logistic Regression (area = %0.2f)' % xgb_roc_auc)\n",
    "plt.plot([0, 1], [0, 1],'r--')\n",
    "plt.xlim([0.0, 1.0])\n",
    "plt.ylim([0.0, 1.05])\n",
    "plt.xlabel('False Positive Rate')\n",
    "plt.ylabel('True Positive Rate')\n",
    "plt.title('Receiver operating characteristic')\n",
    "plt.legend(loc=\"lower right\")\n",
    "plt.savefig('Log_ROC')\n",
    "plt.show()"
   ]
  },
  {
   "cell_type": "markdown",
   "metadata": {
    "id": "xIHfYqupnu9-"
   },
   "source": [
    "Получается, эта модель лучше справляется с задачей!"
   ]
  },
  {
   "cell_type": "code",
   "execution_count": 54,
   "metadata": {
    "colab": {
     "base_uri": "https://localhost:8080/",
     "height": 318
    },
    "id": "RDUHnfMBbmV2",
    "outputId": "2a61deed-1b18-435b-e4ee-76010ddd15b4"
   },
   "outputs": [
    {
     "data": {
      "text/plain": [
       "<AxesSubplot:title={'center':'Feature importance'}, xlabel='F score', ylabel='Features'>"
      ]
     },
     "execution_count": 54,
     "metadata": {},
     "output_type": "execute_result"
    },
    {
     "data": {
      "image/png": "[encoded data removed]",
      "text/plain": [
       "<Figure size 432x288 with 1 Axes>"
      ]
     },
     "metadata": {},
     "output_type": "display_data"
    }
   ],
   "source": [
    "import xgboost as xgb\n",
    "\n",
    "xgb.plot_importance(xgb_model)"
   ]
  },
  {
   "cell_type": "markdown",
   "metadata": {
    "id": "puEd7agroUxz"
   },
   "source": [
    "Как видим, обе фичи влияют почти равнозначно на предикт."
   ]
  },
  {
   "cell_type": "code",
   "execution_count": 55,
   "metadata": {
    "colab": {
     "base_uri": "https://localhost:8080/",
     "height": 436
    },
    "id": "ekGWE9Txr_jO",
    "outputId": "94017ed1-ec14-4acf-d5fa-29adc42771e8"
   },
   "outputs": [
    {
     "name": "stdout",
     "output_type": "stream",
     "text": [
      "min accuracy:  0.50000644\n"
     ]
    },
    {
     "data": {
      "text/plain": [
       "(array([  269.,   237.,   316.,   294.,   356.,   339.,   348.,   386.,\n",
       "          388.,   411.,   658.,   724.,   889.,  1049.,  1318.,  2236.,\n",
       "         3531.,  7477., 14144., 38697.]),\n",
       " array([0.50000644, 0.52500486, 0.55000323, 0.57500166, 0.6       ,\n",
       "        0.62499845, 0.6499969 , 0.67499524, 0.69999367, 0.72499204,\n",
       "        0.74999046, 0.7749889 , 0.79998726, 0.8249857 , 0.84998405,\n",
       "        0.8749825 , 0.8999809 , 0.92497927, 0.9499777 , 0.97497606,\n",
       "        0.9999745 ], dtype=float32),\n",
       " <BarContainer object of 20 artists>)"
      ]
     },
     "execution_count": 55,
     "metadata": {},
     "output_type": "execute_result"
    },
    {
     "data": {
      "image/png": "[encoded data removed]",
      "text/plain": [
       "<Figure size 432x288 with 1 Axes>"
      ]
     },
     "metadata": {},
     "output_type": "display_data"
    }
   ],
   "source": [
    "max_x = []\n",
    "for x in xgb_model.predict_proba(X_test):\n",
    "    max_x.append(max(x))\n",
    "print(\"min accuracy: \",min(max_x))\n",
    "plt.hist(max_x, bins=20)"
   ]
  },
  {
   "cell_type": "code",
   "execution_count": 56,
   "metadata": {
    "colab": {
     "base_uri": "https://localhost:8080/",
     "height": 338
    },
    "id": "aWUNh379r_nw",
    "outputId": "14b7c92e-6e14-4ed5-9054-149816817abe"
   },
   "outputs": [
    {
     "name": "stderr",
     "output_type": "stream",
     "text": [
      "c:\\program files\\python38\\lib\\site-packages\\seaborn\\_decorators.py:36: FutureWarning: Pass the following variable as a keyword arg: x. From version 0.12, the only valid positional argument will be `data`, and passing other arguments without an explicit keyword will result in an error or misinterpretation.\n",
      "  warnings.warn(\n"
     ]
    },
    {
     "data": {
      "text/plain": [
       "<AxesSubplot:>"
      ]
     },
     "execution_count": 56,
     "metadata": {},
     "output_type": "execute_result"
    },
    {
     "data": {
      "image/png": "[encoded data removed]",
      "text/plain": [
       "<Figure size 432x288 with 1 Axes>"
      ]
     },
     "metadata": {},
     "output_type": "display_data"
    }
   ],
   "source": [
    "sns.boxplot(max_x)"
   ]
  },
  {
   "cell_type": "code",
   "execution_count": 57,
   "metadata": {
    "colab": {
     "base_uri": "https://localhost:8080/"
    },
    "id": "rOWsHRvzsTBN",
    "outputId": "c99916d7-7c42-4775-f419-65da0335122b"
   },
   "outputs": [
    {
     "data": {
      "text/plain": [
       "(0.9999280571937561, 0.9480854900330029, 0.9773211479187012)"
      ]
     },
     "execution_count": 57,
     "metadata": {},
     "output_type": "execute_result"
    }
   ],
   "source": [
    "max_x = pd.Series(max_x)\n",
    "\n",
    "max_x.mode()[0], max_x.mean(), max_x.median()"
   ]
  },
  {
   "cell_type": "code",
   "execution_count": 72,
   "metadata": {
    "colab": {
     "base_uri": "https://localhost:8080/"
    },
    "id": "wnjfxj3TsTG-",
    "outputId": "621e8a2c-3613-47a9-ccfb-40787a8a8b5f"
   },
   "outputs": [
    {
     "data": {
      "text/plain": [
       "15403    0.999916\n",
       "53748    0.999916\n",
       "9169     0.999916\n",
       "17386    0.999916\n",
       "27227    0.999916\n",
       "           ...   \n",
       "3830     0.999974\n",
       "37537    0.999974\n",
       "13177    0.999974\n",
       "67819    0.999974\n",
       "64597    0.999974\n",
       "Length: 3704, dtype: float64"
      ]
     },
     "execution_count": 72,
     "metadata": {},
     "output_type": "execute_result"
    }
   ],
   "source": [
    "max_x.sort_values()[int(0.95*max_x.count()):]"
   ]
  },
  {
   "cell_type": "markdown",
   "metadata": {},
   "source": [
    "Если мы будем давать 5% на перепроверку, то точность нашей модели возрастает до 99.99% для данных, которые не отправляются на перепроверку. Полнота это модели равна 0.93-0.94, что очень хорошо, относительно обычной логистической регрессии."
   ]
  },
  {
   "cell_type": "code",
   "execution_count": null,
   "metadata": {},
   "outputs": [],
   "source": []
  },
  {
   "cell_type": "markdown",
   "metadata": {
    "id": "znl1hWR4peSg"
   },
   "source": [
    "Попробуем ещё одну модельку. Просто немного поиграем с параметрами."
   ]
  },
  {
   "cell_type": "code",
   "execution_count": 195,
   "metadata": {
    "colab": {
     "base_uri": "https://localhost:8080/"
    },
    "id": "QKNVN01mnze3",
    "outputId": "f59365af-b445-45d2-edb8-c9c1b1b97ddd"
   },
   "outputs": [
    {
     "data": {
      "text/plain": [
       "XGBClassifier(alpha=0.1, base_score=0.5, booster='gbtree', colsample_bylevel=1,\n",
       "              colsample_bynode=1, colsample_bytree=1, gamma=0, gpu_id=-1,\n",
       "              importance_type='gain', interaction_constraints='',\n",
       "              learning_rate=0.1, max_delta_step=0, max_depth=20,\n",
       "              min_child_weight=1, missing=nan, monotone_constraints='()',\n",
       "              n_estimators=100, n_jobs=-1, num_parallel_tree=1, random_state=0,\n",
       "              reg_alpha=0.100000001, reg_lambda=1, scale_pos_weight=1,\n",
       "              subsample=1, tree_method='exact', validate_parameters=1,\n",
       "              verbosity=None)"
      ]
     },
     "execution_count": 195,
     "metadata": {},
     "output_type": "execute_result"
    }
   ],
   "source": [
    "xg_reg = xgb.XGBClassifier(\n",
    "                objective = 'binary:logistic',\n",
    "                learning_rate = 0.1,\n",
    "                max_depth = 20, \n",
    "                alpha = 0.1, \n",
    "                n_estimators = 100,\n",
    "                n_jobs=-1\n",
    "                )\n",
    "xg_reg.fit(X_train, y_train)"
   ]
  },
  {
   "cell_type": "code",
   "execution_count": 196,
   "metadata": {
    "colab": {
     "base_uri": "https://localhost:8080/"
    },
    "id": "GJ9J8X3mnzhs",
    "outputId": "88785d6c-fa7e-42fc-8140-d6876e469476"
   },
   "outputs": [
    {
     "name": "stdout",
     "output_type": "stream",
     "text": [
      "Accuracy: 95.38%\n"
     ]
    }
   ],
   "source": [
    "y_pred = xg_reg.predict(X_test)\n",
    "\n",
    "accuracy = accuracy_score(y_test, y_pred)\n",
    "print(\"Accuracy: %.2f%%\" % (accuracy * 100.0))"
   ]
  },
  {
   "cell_type": "markdown",
   "metadata": {
    "id": "aKpSdfvnrIhH"
   },
   "source": [
    "Получилось немного улучшить качество модели засчёт регуляризации и увеличения глубины дерева."
   ]
  },
  {
   "cell_type": "code",
   "execution_count": 75,
   "metadata": {
    "colab": {
     "base_uri": "https://localhost:8080/",
     "height": 318
    },
    "id": "bT56Wbcanzk4",
    "outputId": "9f2acf47-e56a-4932-a900-20d087745b86"
   },
   "outputs": [
    {
     "data": {
      "text/plain": [
       "<AxesSubplot:title={'center':'Feature importance'}, xlabel='F score', ylabel='Features'>"
      ]
     },
     "execution_count": 75,
     "metadata": {},
     "output_type": "execute_result"
    },
    {
     "data": {
      "image/png": "[encoded data removed]",
      "text/plain": [
       "<Figure size 432x288 with 1 Axes>"
      ]
     },
     "metadata": {},
     "output_type": "display_data"
    }
   ],
   "source": [
    "import xgboost as xgb\n",
    "\n",
    "xgb.plot_importance(xg_reg)"
   ]
  },
  {
   "cell_type": "markdown",
   "metadata": {},
   "source": [
    "Как видим, обе фичи влияют почти равнозначно на предикт."
   ]
  },
  {
   "cell_type": "code",
   "execution_count": 76,
   "metadata": {
    "colab": {
     "base_uri": "https://localhost:8080/"
    },
    "id": "Ycx0QUaiGC1k",
    "outputId": "c6683935-abf9-496b-dc57-8826b833e6c9"
   },
   "outputs": [
    {
     "data": {
      "text/plain": [
       "0.50017005"
      ]
     },
     "execution_count": 76,
     "metadata": {},
     "output_type": "execute_result"
    }
   ],
   "source": [
    "max_x = []\n",
    "for x in xg_reg.predict_proba(X_test):\n",
    "    max_x.append(max(x))\n",
    "min(max_x)"
   ]
  },
  {
   "cell_type": "code",
   "execution_count": 77,
   "metadata": {
    "colab": {
     "base_uri": "https://localhost:8080/",
     "height": 422
    },
    "id": "13tK8tHPGC5F",
    "outputId": "1a82b83f-3ceb-4450-e4f8-95222289e0c1"
   },
   "outputs": [
    {
     "data": {
      "text/plain": [
       "(array([  265.,   257.,   250.,   258.,   304.,   243.,   282.,   330.,\n",
       "          370.,   413.,   463.,   593.,   650.,   928.,  1129.,  1503.,\n",
       "         2382.,  4458., 10021., 48968.]),\n",
       " array([0.50017005, 0.5251581 , 0.5501461 , 0.57513416, 0.6001222 ,\n",
       "        0.62511027, 0.6500983 , 0.6750863 , 0.7000744 , 0.72506243,\n",
       "        0.7500504 , 0.7750385 , 0.80002654, 0.8250146 , 0.85000265,\n",
       "        0.87499064, 0.8999787 , 0.92496675, 0.94995475, 0.9749428 ,\n",
       "        0.99993086], dtype=float32),\n",
       " <BarContainer object of 20 artists>)"
      ]
     },
     "execution_count": 77,
     "metadata": {},
     "output_type": "execute_result"
    },
    {
     "data": {
      "image/png": "[encoded data removed]",
      "text/plain": [
       "<Figure size 432x288 with 1 Axes>"
      ]
     },
     "metadata": {},
     "output_type": "display_data"
    }
   ],
   "source": [
    "plt.hist(max_x, bins=20)"
   ]
  },
  {
   "cell_type": "code",
   "execution_count": 78,
   "metadata": {
    "colab": {
     "base_uri": "https://localhost:8080/",
     "height": 338
    },
    "id": "6eK-Mjn5GC8Q",
    "outputId": "7ad121c9-fd8b-4398-d389-952c2fd36edd"
   },
   "outputs": [
    {
     "name": "stderr",
     "output_type": "stream",
     "text": [
      "c:\\program files\\python38\\lib\\site-packages\\seaborn\\_decorators.py:36: FutureWarning: Pass the following variable as a keyword arg: x. From version 0.12, the only valid positional argument will be `data`, and passing other arguments without an explicit keyword will result in an error or misinterpretation.\n",
      "  warnings.warn(\n"
     ]
    },
    {
     "data": {
      "text/plain": [
       "<AxesSubplot:>"
      ]
     },
     "execution_count": 78,
     "metadata": {},
     "output_type": "execute_result"
    },
    {
     "data": {
      "image/png": "[encoded data removed]",
      "text/plain": [
       "<Figure size 432x288 with 1 Axes>"
      ]
     },
     "metadata": {},
     "output_type": "display_data"
    }
   ],
   "source": [
    "sns.boxplot(max_x)"
   ]
  },
  {
   "cell_type": "code",
   "execution_count": 79,
   "metadata": {
    "colab": {
     "base_uri": "https://localhost:8080/"
    },
    "id": "hb8Lvn21rUto",
    "outputId": "1a548d15-0ac3-4983-d10f-8b0f9ffde280"
   },
   "outputs": [
    {
     "data": {
      "text/plain": [
       "(0.999926745891571, 0.9584719124473114, 0.9880914688110352)"
      ]
     },
     "execution_count": 79,
     "metadata": {},
     "output_type": "execute_result"
    }
   ],
   "source": [
    "max_x = pd.Series(max_x)\n",
    "\n",
    "max_x.mode()[0], max_x.mean(), max_x.median()"
   ]
  },
  {
   "cell_type": "code",
   "execution_count": 80,
   "metadata": {
    "colab": {
     "base_uri": "https://localhost:8080/"
    },
    "id": "XvGZ_qyprUx0",
    "outputId": "29123914-0e6d-4fdf-f5ec-bad05add7cd8"
   },
   "outputs": [
    {
     "data": {
      "text/plain": [
       "37309    0.999897\n",
       "44824    0.999897\n",
       "61333    0.999897\n",
       "21518    0.999897\n",
       "47542    0.999897\n",
       "           ...   \n",
       "54362    0.999931\n",
       "24126    0.999931\n",
       "60693    0.999931\n",
       "4726     0.999931\n",
       "28079    0.999931\n",
       "Length: 3704, dtype: float64"
      ]
     },
     "execution_count": 80,
     "metadata": {},
     "output_type": "execute_result"
    }
   ],
   "source": [
    "max_x.sort_values()[int(0.95*max_x.count()):]"
   ]
  },
  {
   "cell_type": "markdown",
   "metadata": {
    "id": "5xsmNFZcrxwk"
   },
   "source": [
    "Получили практически аналогичный результат."
   ]
  },
  {
   "cell_type": "code",
   "execution_count": 203,
   "metadata": {
    "id": "wlI51lY5rb1x"
   },
   "outputs": [
    {
     "data": {
      "text/plain": [
       "<seaborn.axisgrid.FacetGrid at 0x211dfbc66d0>"
      ]
     },
     "execution_count": 203,
     "metadata": {},
     "output_type": "execute_result"
    },
    {
     "data": {
      "image/png": "[encoded data removed]",
      "text/plain": [
       "<Figure size 360x360 with 1 Axes>"
      ]
     },
     "metadata": {},
     "output_type": "display_data"
    },
    {
     "data": {
      "image/png": "[encoded data removed]",
      "text/plain": [
       "<Figure size 360x360 with 1 Axes>"
      ]
     },
     "metadata": {},
     "output_type": "display_data"
    }
   ],
   "source": [
    "pred = xg_reg.predict(r[['l1','l2']])\n",
    "sns.displot(pred)\n",
    "sns.displot(r.y)"
   ]
  },
  {
   "cell_type": "code",
   "execution_count": 221,
   "metadata": {
    "id": "ZVT2MmYMrb6G"
   },
   "outputs": [
    {
     "data": {
      "text/plain": [
       "0.2031573643844819"
      ]
     },
     "execution_count": 221,
     "metadata": {},
     "output_type": "execute_result"
    }
   ],
   "source": [
    "(pred[pred==0].size - r[r.y == 0].y.size)/r[r.y==0].y.size"
   ]
  },
  {
   "cell_type": "markdown",
   "metadata": {},
   "source": [
    "Получается, что с этой моделью можно предсказывать около 80% случаев неверного распознавания ГРЗ новым алгоритмом."
   ]
  },
  {
   "cell_type": "code",
   "execution_count": null,
   "metadata": {},
   "outputs": [],
   "source": []
  },
  {
   "cell_type": "code",
   "execution_count": null,
   "metadata": {},
   "outputs": [],
   "source": []
  },
  {
   "cell_type": "code",
   "execution_count": null,
   "metadata": {},
   "outputs": [],
   "source": []
  },
  {
   "cell_type": "code",
   "execution_count": null,
   "metadata": {
    "id": "1RyLWfPVazgp"
   },
   "outputs": [],
   "source": []
  },
  {
   "cell_type": "markdown",
   "metadata": {
    "id": "dF_LbhouF8Ra"
   },
   "source": [
    "Попробуем ещё нейроночку, но интерпретировать результаты будет уже невозможно."
   ]
  },
  {
   "cell_type": "code",
   "execution_count": 81,
   "metadata": {
    "id": "x8ni3BOXEyRx"
   },
   "outputs": [],
   "source": [
    "import tensorflow as tf\n",
    "import keras\n",
    "from tensorflow.keras import layers"
   ]
  },
  {
   "cell_type": "code",
   "execution_count": 104,
   "metadata": {},
   "outputs": [
    {
     "data": {
      "text/plain": [
       "((172821, 2), (172821,))"
      ]
     },
     "execution_count": 104,
     "metadata": {},
     "output_type": "execute_result"
    }
   ],
   "source": [
    "X_train.shape, y_train.shape"
   ]
  },
  {
   "cell_type": "code",
   "execution_count": 161,
   "metadata": {},
   "outputs": [
    {
     "data": {
      "text/plain": [
       "(172821, 1)"
      ]
     },
     "execution_count": 161,
     "metadata": {},
     "output_type": "execute_result"
    }
   ],
   "source": [
    "y_train_2 = y_train.values.reshape(-1,1)\n",
    "y_test_2 = y_test.values.reshape(-1,1)\n",
    "y_train_2.shape"
   ]
  },
  {
   "cell_type": "code",
   "execution_count": 171,
   "metadata": {
    "colab": {
     "base_uri": "https://localhost:8080/"
    },
    "id": "5lZNaJA1EyXN",
    "outputId": "7b32365f-e41c-43ad-af71-c02b7ec2d11a"
   },
   "outputs": [
    {
     "name": "stdout",
     "output_type": "stream",
     "text": [
      "Model: \"sequential_22\"\n",
      "_________________________________________________________________\n",
      "Layer (type)                 Output Shape              Param #   \n",
      "=================================================================\n",
      "dense_81 (Dense)             (1, 1000)                 3000      \n",
      "_________________________________________________________________\n",
      "dense_82 (Dense)             (1, 100)                  100100    \n",
      "_________________________________________________________________\n",
      "dense_83 (Dense)             (1, 1)                    101       \n",
      "=================================================================\n",
      "Total params: 103,201\n",
      "Trainable params: 103,201\n",
      "Non-trainable params: 0\n",
      "_________________________________________________________________\n"
     ]
    }
   ],
   "source": [
    "model = keras.Sequential(\n",
    "    [\n",
    "        layers.Dense(1000, activation=\"relu\"),\n",
    "        layers.Dense(100, activation=\"relu\"),\n",
    "        layers.Dense(1, activation='sigmoid'),\n",
    "    ]\n",
    ")  \n",
    "x = tf.ones((1, 2))\n",
    "model(x)\n",
    "model.summary()"
   ]
  },
  {
   "cell_type": "code",
   "execution_count": 172,
   "metadata": {
    "id": "vLtMuuCjGWCX"
   },
   "outputs": [],
   "source": [
    "opt = tf.keras.optimizers.Adam(learning_rate=0.05)\n",
    "model.compile(optimizer=opt, metrics='accuracy', loss='binary_crossentropy')"
   ]
  },
  {
   "cell_type": "code",
   "execution_count": 173,
   "metadata": {
    "colab": {
     "base_uri": "https://localhost:8080/"
    },
    "id": "MfXr6JN8GWHY",
    "outputId": "161af8ce-a809-47c6-aac3-b943df9ee2f8"
   },
   "outputs": [
    {
     "name": "stdout",
     "output_type": "stream",
     "text": [
      "Epoch 1/10\n",
      "1351/1351 [==============================] - 3s 2ms/step - loss: 0.3347 - accuracy: 0.8883 - val_loss: 0.2499 - val_accuracy: 0.9173\n",
      "Epoch 2/10\n",
      "1351/1351 [==============================] - 3s 2ms/step - loss: 0.2385 - accuracy: 0.9210 - val_loss: 0.3178 - val_accuracy: 0.9365\n",
      "Epoch 3/10\n",
      "1351/1351 [==============================] - 3s 2ms/step - loss: 0.2419 - accuracy: 0.9209 - val_loss: 0.2603 - val_accuracy: 0.9108\n",
      "Epoch 4/10\n",
      "1351/1351 [==============================] - 3s 2ms/step - loss: 0.2392 - accuracy: 0.9231 - val_loss: 0.2451 - val_accuracy: 0.9268\n"
     ]
    }
   ],
   "source": [
    "callback = tf.keras.callbacks.EarlyStopping(monitor='loss', patience=2)\n",
    "history = model.fit(X_train, y_train_2, batch_size=128, validation_data=(X_test, y_test_2), epochs=10, verbose=1, callbacks=callback)"
   ]
  },
  {
   "cell_type": "code",
   "execution_count": 85,
   "metadata": {
    "colab": {
     "base_uri": "https://localhost:8080/"
    },
    "id": "Ymc3UA0GEydE",
    "outputId": "534d7b13-17c6-4ece-e898-510f2ef4c684"
   },
   "outputs": [
    {
     "data": {
      "text/plain": [
       "dict_keys(['loss', 'accuracy', 'val_loss', 'val_accuracy'])"
      ]
     },
     "execution_count": 85,
     "metadata": {},
     "output_type": "execute_result"
    }
   ],
   "source": [
    "history.history.keys()"
   ]
  },
  {
   "cell_type": "code",
   "execution_count": 174,
   "metadata": {
    "colab": {
     "base_uri": "https://localhost:8080/",
     "height": 394
    },
    "id": "Zz19IGDnNN6V",
    "outputId": "c42ec4fe-c26e-486a-a4c7-f22c18e2016a"
   },
   "outputs": [
    {
     "data": {
      "text/plain": [
       "<AxesSubplot:ylabel='accuracy'>"
      ]
     },
     "execution_count": 174,
     "metadata": {},
     "output_type": "execute_result"
    },
    {
     "data": {
      "image/png": "[encoded data removed]",
      "text/plain": [
       "<Figure size 1008x432 with 2 Axes>"
      ]
     },
     "metadata": {},
     "output_type": "display_data"
    }
   ],
   "source": [
    "fig, ax = plt.subplots(ncols=2, figsize=(14,6))\n",
    "sns.lineplot(x=list(range(4)), y='loss', data=history.history, ax=ax[0], legend='auto', label='train_loss')\n",
    "sns.lineplot(x=list(range(4)), y='val_loss', data=history.history, ax=ax[0], legend='auto', label='test_loss')\n",
    "sns.lineplot(x=list(range(4)), y='accuracy', data=history.history, ax=ax[1], legend='auto', label='train_accuracy')\n",
    "sns.lineplot(x=list(range(4)), y='val_accuracy', data=history.history, ax=ax[1], legend='auto', label='test_accuracy')"
   ]
  },
  {
   "cell_type": "markdown",
   "metadata": {
    "id": "I0sor6h0RnOx"
   },
   "source": [
    "Эта модель получилась явно хуже. Кроме того, её ещё и трудно интерпретировать. Не будем её брать."
   ]
  },
  {
   "cell_type": "code",
   "execution_count": null,
   "metadata": {
    "id": "eRgg-WfhRw5m"
   },
   "outputs": [],
   "source": []
  },
  {
   "cell_type": "code",
   "execution_count": null,
   "metadata": {
    "id": "iYD1GJEpRw9X"
   },
   "outputs": [],
   "source": []
  },
  {
   "cell_type": "code",
   "execution_count": null,
   "metadata": {
    "id": "4T6CTz6bRxA5"
   },
   "outputs": [],
   "source": []
  },
  {
   "cell_type": "markdown",
   "metadata": {
    "id": "9H-h05t7ksfH"
   },
   "source": [
    "Попробуем ещё случайный лес. Ансамбли в этой задачи неплохо должны справляться."
   ]
  },
  {
   "cell_type": "code",
   "execution_count": 175,
   "metadata": {
    "colab": {
     "base_uri": "https://localhost:8080/"
    },
    "id": "wmisR69kRxEw",
    "outputId": "0c87aa6f-0ed5-4512-c3b5-c7a8ae313f5e"
   },
   "outputs": [
    {
     "data": {
      "text/plain": [
       "RandomForestClassifier(max_depth=20, n_jobs=-1, random_state=0)"
      ]
     },
     "execution_count": 175,
     "metadata": {},
     "output_type": "execute_result"
    }
   ],
   "source": [
    "from sklearn.ensemble import RandomForestClassifier\n",
    "\n",
    "forest_model = RandomForestClassifier(max_depth=20, random_state=0, n_estimators=100, n_jobs=-1)\n",
    "forest_model.fit(X_train, y_train)"
   ]
  },
  {
   "cell_type": "code",
   "execution_count": 176,
   "metadata": {
    "colab": {
     "base_uri": "https://localhost:8080/"
    },
    "id": "-gxtXuCSkvns",
    "outputId": "a43282e0-9dc9-4482-f9c2-5dc26bed4ef1"
   },
   "outputs": [
    {
     "name": "stdout",
     "output_type": "stream",
     "text": [
      "Accuracy: 95.09%\n"
     ]
    }
   ],
   "source": [
    "y_pred = forest_model.predict(X_test)\n",
    "\n",
    "accuracy = accuracy_score(y_test, y_pred)\n",
    "print(\"Accuracy: %.2f%%\" % (accuracy * 100.0))"
   ]
  },
  {
   "cell_type": "code",
   "execution_count": 179,
   "metadata": {
    "colab": {
     "base_uri": "https://localhost:8080/"
    },
    "id": "0h2AOzwwkvrG",
    "outputId": "e518956b-39f7-4c40-fb72-e96abb409dde"
   },
   "outputs": [
    {
     "name": "stdout",
     "output_type": "stream",
     "text": [
      "[[34406  2574]\n",
      " [ 1060 36027]]\n"
     ]
    }
   ],
   "source": [
    "confusion_matrix = confusion_matrix(y_test, y_pred)\n",
    "print(confusion_matrix)"
   ]
  },
  {
   "cell_type": "code",
   "execution_count": 180,
   "metadata": {
    "colab": {
     "base_uri": "https://localhost:8080/"
    },
    "id": "5YQ01jxVkvwS",
    "outputId": "23fc5941-6071-4f8b-c008-e19f95e3be28"
   },
   "outputs": [
    {
     "name": "stdout",
     "output_type": "stream",
     "text": [
      "              precision    recall  f1-score   support\n",
      "\n",
      "           0       0.97      0.93      0.95     36980\n",
      "           1       0.93      0.97      0.95     37087\n",
      "\n",
      "    accuracy                           0.95     74067\n",
      "   macro avg       0.95      0.95      0.95     74067\n",
      "weighted avg       0.95      0.95      0.95     74067\n",
      "\n"
     ]
    }
   ],
   "source": [
    "print(classification_report(y_test, y_pred))"
   ]
  },
  {
   "cell_type": "code",
   "execution_count": 181,
   "metadata": {
    "colab": {
     "base_uri": "https://localhost:8080/",
     "height": 301
    },
    "id": "dmnYnu7gazmt",
    "outputId": "7e8e3d7c-45d7-497d-c5a8-be99664dd75a"
   },
   "outputs": [
    {
     "data": {
      "image/png": "[encoded data removed]",
      "text/plain": [
       "<Figure size 432x288 with 1 Axes>"
      ]
     },
     "metadata": {},
     "output_type": "display_data"
    }
   ],
   "source": [
    "forest_roc_auc = roc_auc_score(y_test, y_pred)\n",
    "fpr, tpr, thresholds = roc_curve(y_test, forest_model.predict_proba(X_test)[:,1])\n",
    "plt.figure()\n",
    "plt.plot(fpr, tpr, label='Logistic Regression (area = %0.2f)' % forest_roc_auc)\n",
    "plt.plot([0, 1], [0, 1],'r--')\n",
    "plt.xlim([0.0, 1.0])\n",
    "plt.ylim([0.0, 1.05])\n",
    "plt.xlabel('False Positive Rate')\n",
    "plt.ylabel('True Positive Rate')\n",
    "plt.title('Receiver operating characteristic')\n",
    "plt.legend(loc=\"lower right\")\n",
    "plt.savefig('Log_ROC')\n",
    "plt.show()"
   ]
  },
  {
   "cell_type": "markdown",
   "metadata": {
    "id": "_5Z-_tBImpX9"
   },
   "source": [
    "Можно заметить, что ансамбли XGBoost дают схожее качество."
   ]
  },
  {
   "cell_type": "code",
   "execution_count": null,
   "metadata": {
    "id": "jGB-pbcQlu4r"
   },
   "outputs": [],
   "source": []
  },
  {
   "cell_type": "code",
   "execution_count": null,
   "metadata": {},
   "outputs": [],
   "source": []
  },
  {
   "cell_type": "code",
   "execution_count": 187,
   "metadata": {},
   "outputs": [
    {
     "data": {
      "text/plain": [
       "0.09197586167835481"
      ]
     },
     "execution_count": 187,
     "metadata": {},
     "output_type": "execute_result"
    }
   ],
   "source": [
    "data[data['score_LCS'] == 0].id.count()/data.id.count()"
   ]
  },
  {
   "cell_type": "markdown",
   "metadata": {},
   "source": [
    "Примерно 9% всех нарушений при обработке новой моделью отличаются от итогового результата проверки."
   ]
  },
  {
   "cell_type": "code",
   "execution_count": 193,
   "metadata": {},
   "outputs": [
    {
     "data": {
      "text/plain": [
       "0.30151710239041596"
      ]
     },
     "execution_count": 193,
     "metadata": {},
     "output_type": "execute_result"
    }
   ],
   "source": [
    "data[(data['score_LCS'] == 0) & ((data.result_code == 1) | (data.result_code == 4))].id.count()/data[data['score_LCS'] == 0].id.count()"
   ]
  },
  {
   "cell_type": "code",
   "execution_count": 194,
   "metadata": {},
   "outputs": [
    {
     "data": {
      "text/plain": [
       "0.6253148967138779"
      ]
     },
     "execution_count": 194,
     "metadata": {},
     "output_type": "execute_result"
    }
   ],
   "source": [
    "data[(data['score_LCS'] == 0) & (data.result_code == 5)].id.count()/data[data['score_LCS'] == 0].id.count()"
   ]
  },
  {
   "cell_type": "markdown",
   "metadata": {},
   "source": [
    "Из этих 9% примерно 30% - изображения с плохим качеством или плохо видно ГРЗ. И в 62.5% случаях это иные причины не оформления нарушения."
   ]
  },
  {
   "cell_type": "code",
   "execution_count": null,
   "metadata": {},
   "outputs": [],
   "source": []
  },
  {
   "cell_type": "code",
   "execution_count": null,
   "metadata": {},
   "outputs": [],
   "source": []
  },
  {
   "cell_type": "code",
   "execution_count": null,
   "metadata": {},
   "outputs": [],
   "source": []
  },
  {
   "cell_type": "markdown",
   "metadata": {
    "id": "LKVs0uOplu81"
   },
   "source": [
    "Вывод:\n"
   ]
  },
  {
   "cell_type": "markdown",
   "metadata": {},
   "source": [
    "Результаты (скор) нашего нового математического алгоритма можно проводить через ещё ансамбли деревьев, чтобы понять, какое нарушение следует пересмотреть оператору.\n",
    "В таком случае мы сможем предсказывать около 80% случаев неверного распознавания ГРЗ новым алгоритмом с точностью 95%. Если мы дополнительно установим планку ансамблям в точности, когда им верим, то мы сможем получать предсказания более точные, но тогда оператору придётся больше перепроверять из-за планки, ведь нарушения, которые не прошли планку скора в ансамблях, идут сразу к оператору."
   ]
  },
  {
   "cell_type": "code",
   "execution_count": null,
   "metadata": {},
   "outputs": [],
   "source": []
  },
  {
   "cell_type": "code",
   "execution_count": null,
   "metadata": {},
   "outputs": [],
   "source": []
  },
  {
   "cell_type": "code",
   "execution_count": null,
   "metadata": {
    "id": "fCKaeprVlvBN"
   },
   "outputs": [],
   "source": []
  },
  {
   "cell_type": "code",
   "execution_count": null,
   "metadata": {
    "id": "jxjGQoASlvE2"
   },
   "outputs": [],
   "source": []
  }
 ],
 "metadata": {
  "colab": {
   "collapsed_sections": [],
   "name": "testovoe.ipynb",
   "provenance": []
  },
  "kernelspec": {
   "display_name": "Python 3",
   "language": "python",
   "name": "python3"
  },
  "language_info": {
   "codemirror_mode": {
    "name": "ipython",
    "version": 3
   },
   "file_extension": ".py",
   "mimetype": "text/x-python",
   "name": "python",
   "nbconvert_exporter": "python",
   "pygments_lexer": "ipython3",
   "version": "3.8.6rc1"
  }
 },
 "nbformat": 4,
 "nbformat_minor": 4
}
